{
 "cells": [
  {
   "cell_type": "markdown",
   "metadata": {},
   "source": [
    "# 实验——回归"
   ]
  },
  {
   "cell_type": "markdown",
   "metadata": {},
   "source": [
    "## Step1 任务分析"
   ]
  },
  {
   "cell_type": "markdown",
   "metadata": {},
   "source": [
    "### question：丰田卡罗拉价格回归分析（数据集为ToyotaCorolla.csv）。\n",
    "* Age: 车龄\n",
    "* KM: 累计里程\n",
    "* FuelType: 燃油类型 (Petrol, Diesel, CNG)\n",
    "* HP: 功率\n",
    "* MetColor: 是否金属漆 (Yes=1, No=0)\n",
    "* Automatic: 是否自动挡( (Yes=1, No=0)\n",
    "* CC: 排量\n",
    "* Doors: 车门数量\n",
    "* Weight: 整车重量\n",
    "* Price: 售价（欧元）"
   ]
  },
  {
   "cell_type": "markdown",
   "metadata": {},
   "source": [
    "## Step2 数据预处理"
   ]
  },
  {
   "cell_type": "code",
   "execution_count": 1,
   "metadata": {},
   "outputs": [],
   "source": [
    "#Step1 查看数据集\n",
    "import pandas as pd\n",
    "import numpy as np\n",
    "import matplotlib.pyplot as plt\n",
    "\n",
    "import warnings\n",
    "warnings.filterwarnings(\"ignore\")"
   ]
  },
  {
   "cell_type": "code",
   "execution_count": 2,
   "metadata": {},
   "outputs": [
    {
     "data": {
      "text/html": [
       "<div>\n",
       "<style scoped>\n",
       "    .dataframe tbody tr th:only-of-type {\n",
       "        vertical-align: middle;\n",
       "    }\n",
       "\n",
       "    .dataframe tbody tr th {\n",
       "        vertical-align: top;\n",
       "    }\n",
       "\n",
       "    .dataframe thead th {\n",
       "        text-align: right;\n",
       "    }\n",
       "</style>\n",
       "<table border=\"1\" class=\"dataframe\">\n",
       "  <thead>\n",
       "    <tr style=\"text-align: right;\">\n",
       "      <th></th>\n",
       "      <th>Price</th>\n",
       "      <th>Age</th>\n",
       "      <th>KM</th>\n",
       "      <th>FuelType</th>\n",
       "      <th>HP</th>\n",
       "      <th>MetColor</th>\n",
       "      <th>Automatic</th>\n",
       "      <th>CC</th>\n",
       "      <th>Doors</th>\n",
       "      <th>Weight</th>\n",
       "    </tr>\n",
       "  </thead>\n",
       "  <tbody>\n",
       "    <tr>\n",
       "      <td>0</td>\n",
       "      <td>13500</td>\n",
       "      <td>23</td>\n",
       "      <td>46986</td>\n",
       "      <td>Diesel</td>\n",
       "      <td>90</td>\n",
       "      <td>1</td>\n",
       "      <td>0</td>\n",
       "      <td>2000</td>\n",
       "      <td>3</td>\n",
       "      <td>1165</td>\n",
       "    </tr>\n",
       "    <tr>\n",
       "      <td>1</td>\n",
       "      <td>13750</td>\n",
       "      <td>23</td>\n",
       "      <td>72937</td>\n",
       "      <td>Diesel</td>\n",
       "      <td>90</td>\n",
       "      <td>1</td>\n",
       "      <td>0</td>\n",
       "      <td>2000</td>\n",
       "      <td>3</td>\n",
       "      <td>1165</td>\n",
       "    </tr>\n",
       "    <tr>\n",
       "      <td>2</td>\n",
       "      <td>13950</td>\n",
       "      <td>24</td>\n",
       "      <td>41711</td>\n",
       "      <td>Diesel</td>\n",
       "      <td>90</td>\n",
       "      <td>1</td>\n",
       "      <td>0</td>\n",
       "      <td>2000</td>\n",
       "      <td>3</td>\n",
       "      <td>1165</td>\n",
       "    </tr>\n",
       "    <tr>\n",
       "      <td>1433</td>\n",
       "      <td>8500</td>\n",
       "      <td>71</td>\n",
       "      <td>17016</td>\n",
       "      <td>Petrol</td>\n",
       "      <td>86</td>\n",
       "      <td>0</td>\n",
       "      <td>0</td>\n",
       "      <td>1300</td>\n",
       "      <td>3</td>\n",
       "      <td>1015</td>\n",
       "    </tr>\n",
       "    <tr>\n",
       "      <td>1434</td>\n",
       "      <td>7250</td>\n",
       "      <td>70</td>\n",
       "      <td>16916</td>\n",
       "      <td>Petrol</td>\n",
       "      <td>86</td>\n",
       "      <td>1</td>\n",
       "      <td>0</td>\n",
       "      <td>1300</td>\n",
       "      <td>3</td>\n",
       "      <td>1015</td>\n",
       "    </tr>\n",
       "    <tr>\n",
       "      <td>1435</td>\n",
       "      <td>6950</td>\n",
       "      <td>76</td>\n",
       "      <td>1</td>\n",
       "      <td>Petrol</td>\n",
       "      <td>110</td>\n",
       "      <td>0</td>\n",
       "      <td>0</td>\n",
       "      <td>1600</td>\n",
       "      <td>5</td>\n",
       "      <td>1114</td>\n",
       "    </tr>\n",
       "  </tbody>\n",
       "</table>\n",
       "</div>"
      ],
      "text/plain": [
       "      Price  Age     KM FuelType   HP  MetColor  Automatic    CC  Doors  \\\n",
       "0     13500   23  46986   Diesel   90         1          0  2000      3   \n",
       "1     13750   23  72937   Diesel   90         1          0  2000      3   \n",
       "2     13950   24  41711   Diesel   90         1          0  2000      3   \n",
       "1433   8500   71  17016   Petrol   86         0          0  1300      3   \n",
       "1434   7250   70  16916   Petrol   86         1          0  1300      3   \n",
       "1435   6950   76      1   Petrol  110         0          0  1600      5   \n",
       "\n",
       "      Weight  \n",
       "0       1165  \n",
       "1       1165  \n",
       "2       1165  \n",
       "1433    1015  \n",
       "1434    1015  \n",
       "1435    1114  "
      ]
     },
     "execution_count": 2,
     "metadata": {},
     "output_type": "execute_result"
    }
   ],
   "source": [
    "#读取data\n",
    "data = pd.read_csv('ToyotaCorolla.csv')\n",
    "#显示所有特征列\n",
    "pd.set_option('display.max_columns',None)\n",
    "#显示前后3行训练集所有data\n",
    "data.head(3).append(data.tail(3))"
   ]
  },
  {
   "cell_type": "code",
   "execution_count": 3,
   "metadata": {},
   "outputs": [
    {
     "name": "stdout",
     "output_type": "stream",
     "text": [
      "data shape: (1436, 10)\n",
      "-------------------------------------\n",
      "<class 'pandas.core.frame.DataFrame'>\n",
      "RangeIndex: 1436 entries, 0 to 1435\n",
      "Data columns (total 10 columns):\n",
      "Price        1436 non-null int64\n",
      "Age          1436 non-null int64\n",
      "KM           1436 non-null int64\n",
      "FuelType     1436 non-null object\n",
      "HP           1436 non-null int64\n",
      "MetColor     1436 non-null int64\n",
      "Automatic    1436 non-null int64\n",
      "CC           1436 non-null int64\n",
      "Doors        1436 non-null int64\n",
      "Weight       1436 non-null int64\n",
      "dtypes: int64(9), object(1)\n",
      "memory usage: 112.3+ KB\n",
      "None\n"
     ]
    }
   ],
   "source": [
    "#查看数据维度\n",
    "print('data shape:',data.shape)\n",
    "print('-------------------------------------')\n",
    "#查看数据类型\n",
    "print(data.info())"
   ]
  },
  {
   "cell_type": "code",
   "execution_count": 4,
   "metadata": {},
   "outputs": [
    {
     "data": {
      "text/html": [
       "<div>\n",
       "<style scoped>\n",
       "    .dataframe tbody tr th:only-of-type {\n",
       "        vertical-align: middle;\n",
       "    }\n",
       "\n",
       "    .dataframe tbody tr th {\n",
       "        vertical-align: top;\n",
       "    }\n",
       "\n",
       "    .dataframe thead th {\n",
       "        text-align: right;\n",
       "    }\n",
       "</style>\n",
       "<table border=\"1\" class=\"dataframe\">\n",
       "  <thead>\n",
       "    <tr style=\"text-align: right;\">\n",
       "      <th></th>\n",
       "      <th>Price</th>\n",
       "      <th>Age</th>\n",
       "      <th>KM</th>\n",
       "      <th>HP</th>\n",
       "      <th>MetColor</th>\n",
       "      <th>Automatic</th>\n",
       "      <th>CC</th>\n",
       "      <th>Doors</th>\n",
       "      <th>Weight</th>\n",
       "    </tr>\n",
       "  </thead>\n",
       "  <tbody>\n",
       "    <tr>\n",
       "      <td>count</td>\n",
       "      <td>1436.000000</td>\n",
       "      <td>1436.000000</td>\n",
       "      <td>1436.000000</td>\n",
       "      <td>1436.000000</td>\n",
       "      <td>1436.000000</td>\n",
       "      <td>1436.000000</td>\n",
       "      <td>1436.000000</td>\n",
       "      <td>1436.000000</td>\n",
       "      <td>1436.00000</td>\n",
       "    </tr>\n",
       "    <tr>\n",
       "      <td>mean</td>\n",
       "      <td>10730.824513</td>\n",
       "      <td>55.947075</td>\n",
       "      <td>68533.259749</td>\n",
       "      <td>101.502089</td>\n",
       "      <td>0.674791</td>\n",
       "      <td>0.055710</td>\n",
       "      <td>1566.827994</td>\n",
       "      <td>4.033426</td>\n",
       "      <td>1072.45961</td>\n",
       "    </tr>\n",
       "    <tr>\n",
       "      <td>std</td>\n",
       "      <td>3626.964585</td>\n",
       "      <td>18.599988</td>\n",
       "      <td>37506.448872</td>\n",
       "      <td>14.981080</td>\n",
       "      <td>0.468616</td>\n",
       "      <td>0.229441</td>\n",
       "      <td>187.182436</td>\n",
       "      <td>0.952677</td>\n",
       "      <td>52.64112</td>\n",
       "    </tr>\n",
       "    <tr>\n",
       "      <td>min</td>\n",
       "      <td>4350.000000</td>\n",
       "      <td>1.000000</td>\n",
       "      <td>1.000000</td>\n",
       "      <td>69.000000</td>\n",
       "      <td>0.000000</td>\n",
       "      <td>0.000000</td>\n",
       "      <td>1300.000000</td>\n",
       "      <td>2.000000</td>\n",
       "      <td>1000.00000</td>\n",
       "    </tr>\n",
       "    <tr>\n",
       "      <td>25%</td>\n",
       "      <td>8450.000000</td>\n",
       "      <td>44.000000</td>\n",
       "      <td>43000.000000</td>\n",
       "      <td>90.000000</td>\n",
       "      <td>0.000000</td>\n",
       "      <td>0.000000</td>\n",
       "      <td>1400.000000</td>\n",
       "      <td>3.000000</td>\n",
       "      <td>1040.00000</td>\n",
       "    </tr>\n",
       "    <tr>\n",
       "      <td>50%</td>\n",
       "      <td>9900.000000</td>\n",
       "      <td>61.000000</td>\n",
       "      <td>63389.500000</td>\n",
       "      <td>110.000000</td>\n",
       "      <td>1.000000</td>\n",
       "      <td>0.000000</td>\n",
       "      <td>1600.000000</td>\n",
       "      <td>4.000000</td>\n",
       "      <td>1070.00000</td>\n",
       "    </tr>\n",
       "    <tr>\n",
       "      <td>75%</td>\n",
       "      <td>11950.000000</td>\n",
       "      <td>70.000000</td>\n",
       "      <td>87020.750000</td>\n",
       "      <td>110.000000</td>\n",
       "      <td>1.000000</td>\n",
       "      <td>0.000000</td>\n",
       "      <td>1600.000000</td>\n",
       "      <td>5.000000</td>\n",
       "      <td>1085.00000</td>\n",
       "    </tr>\n",
       "    <tr>\n",
       "      <td>max</td>\n",
       "      <td>32500.000000</td>\n",
       "      <td>80.000000</td>\n",
       "      <td>243000.000000</td>\n",
       "      <td>192.000000</td>\n",
       "      <td>1.000000</td>\n",
       "      <td>1.000000</td>\n",
       "      <td>2000.000000</td>\n",
       "      <td>5.000000</td>\n",
       "      <td>1615.00000</td>\n",
       "    </tr>\n",
       "  </tbody>\n",
       "</table>\n",
       "</div>"
      ],
      "text/plain": [
       "              Price          Age             KM           HP     MetColor  \\\n",
       "count   1436.000000  1436.000000    1436.000000  1436.000000  1436.000000   \n",
       "mean   10730.824513    55.947075   68533.259749   101.502089     0.674791   \n",
       "std     3626.964585    18.599988   37506.448872    14.981080     0.468616   \n",
       "min     4350.000000     1.000000       1.000000    69.000000     0.000000   \n",
       "25%     8450.000000    44.000000   43000.000000    90.000000     0.000000   \n",
       "50%     9900.000000    61.000000   63389.500000   110.000000     1.000000   \n",
       "75%    11950.000000    70.000000   87020.750000   110.000000     1.000000   \n",
       "max    32500.000000    80.000000  243000.000000   192.000000     1.000000   \n",
       "\n",
       "         Automatic           CC        Doors      Weight  \n",
       "count  1436.000000  1436.000000  1436.000000  1436.00000  \n",
       "mean      0.055710  1566.827994     4.033426  1072.45961  \n",
       "std       0.229441   187.182436     0.952677    52.64112  \n",
       "min       0.000000  1300.000000     2.000000  1000.00000  \n",
       "25%       0.000000  1400.000000     3.000000  1040.00000  \n",
       "50%       0.000000  1600.000000     4.000000  1070.00000  \n",
       "75%       0.000000  1600.000000     5.000000  1085.00000  \n",
       "max       1.000000  2000.000000     5.000000  1615.00000  "
      ]
     },
     "execution_count": 4,
     "metadata": {},
     "output_type": "execute_result"
    }
   ],
   "source": [
    "#统计学角度观察数据\n",
    "data.describe()"
   ]
  },
  {
   "cell_type": "code",
   "execution_count": 5,
   "metadata": {},
   "outputs": [
    {
     "data": {
      "text/plain": [
       "Petrol    1264\n",
       "Diesel     155\n",
       "CNG         17\n",
       "Name: FuelType, dtype: int64"
      ]
     },
     "execution_count": 5,
     "metadata": {},
     "output_type": "execute_result"
    }
   ],
   "source": [
    "#查看FuelType列特征分布\n",
    "data['FuelType'].value_counts()"
   ]
  },
  {
   "cell_type": "code",
   "execution_count": 6,
   "metadata": {
    "scrolled": true
   },
   "outputs": [
    {
     "data": {
      "text/plain": [
       "1600    846\n",
       "1300    248\n",
       "1400    164\n",
       "2000    119\n",
       "1900     30\n",
       "1800     14\n",
       "1598      4\n",
       "1587      4\n",
       "1995      2\n",
       "1398      2\n",
       "1332      2\n",
       "1975      1\n",
       "Name: CC, dtype: int64"
      ]
     },
     "execution_count": 6,
     "metadata": {},
     "output_type": "execute_result"
    }
   ],
   "source": [
    "data['CC'].value_counts()"
   ]
  },
  {
   "cell_type": "code",
   "execution_count": 7,
   "metadata": {},
   "outputs": [
    {
     "name": "stdout",
     "output_type": "stream",
     "text": [
      "Requirement already satisfied: missingno in /Users/sredyu/opt/anaconda3/lib/python3.7/site-packages (0.4.2)\n",
      "Requirement already satisfied: numpy in /Users/sredyu/opt/anaconda3/lib/python3.7/site-packages (from missingno) (1.17.2)\n",
      "Requirement already satisfied: seaborn in /Users/sredyu/opt/anaconda3/lib/python3.7/site-packages (from missingno) (0.9.0)\n",
      "Requirement already satisfied: scipy in /Users/sredyu/opt/anaconda3/lib/python3.7/site-packages (from missingno) (1.3.1)\n",
      "Requirement already satisfied: matplotlib in /Users/sredyu/opt/anaconda3/lib/python3.7/site-packages (from missingno) (3.1.1)\n",
      "Requirement already satisfied: pandas>=0.15.2 in /Users/sredyu/opt/anaconda3/lib/python3.7/site-packages (from seaborn->missingno) (0.25.1)\n",
      "Requirement already satisfied: cycler>=0.10 in /Users/sredyu/opt/anaconda3/lib/python3.7/site-packages (from matplotlib->missingno) (0.10.0)\n",
      "Requirement already satisfied: kiwisolver>=1.0.1 in /Users/sredyu/opt/anaconda3/lib/python3.7/site-packages (from matplotlib->missingno) (1.1.0)\n",
      "Requirement already satisfied: pyparsing!=2.0.4,!=2.1.2,!=2.1.6,>=2.0.1 in /Users/sredyu/opt/anaconda3/lib/python3.7/site-packages (from matplotlib->missingno) (2.4.2)\n",
      "Requirement already satisfied: python-dateutil>=2.1 in /Users/sredyu/opt/anaconda3/lib/python3.7/site-packages (from matplotlib->missingno) (2.8.0)\n",
      "Requirement already satisfied: pytz>=2017.2 in /Users/sredyu/opt/anaconda3/lib/python3.7/site-packages (from pandas>=0.15.2->seaborn->missingno) (2019.3)\n",
      "Requirement already satisfied: six in /Users/sredyu/opt/anaconda3/lib/python3.7/site-packages (from cycler>=0.10->matplotlib->missingno) (1.12.0)\n",
      "Requirement already satisfied: setuptools in /Users/sredyu/opt/anaconda3/lib/python3.7/site-packages (from kiwisolver>=1.0.1->matplotlib->missingno) (41.4.0)\n",
      "Note: you may need to restart the kernel to use updated packages.\n"
     ]
    }
   ],
   "source": [
    "pip install missingno"
   ]
  },
  {
   "cell_type": "code",
   "execution_count": 8,
   "metadata": {},
   "outputs": [
    {
     "data": {
      "text/plain": [
       "<matplotlib.axes._subplots.AxesSubplot at 0x7f8bb6ac79d0>"
      ]
     },
     "execution_count": 8,
     "metadata": {},
     "output_type": "execute_result"
    },
    {
     "data": {
      "image/png": "[encoded data removed]",
      "text/plain": [
       "<Figure size 432x288 with 2 Axes>"
      ]
     },
     "metadata": {
      "needs_background": "light"
     },
     "output_type": "display_data"
    }
   ],
   "source": [
    "import missingno as msno\n",
    "#可视化查看缺省值\n",
    "msno.matrix(data,figsize=(6,4))"
   ]
  },
  {
   "cell_type": "markdown",
   "metadata": {},
   "source": [
    "* 由上图可得出该数据集没有缺失值、空值、异常值。"
   ]
  },
  {
   "cell_type": "markdown",
   "metadata": {},
   "source": [
    "## Step3 特征工程"
   ]
  },
  {
   "cell_type": "code",
   "execution_count": 9,
   "metadata": {},
   "outputs": [
    {
     "data": {
      "text/html": [
       "<div>\n",
       "<style scoped>\n",
       "    .dataframe tbody tr th:only-of-type {\n",
       "        vertical-align: middle;\n",
       "    }\n",
       "\n",
       "    .dataframe tbody tr th {\n",
       "        vertical-align: top;\n",
       "    }\n",
       "\n",
       "    .dataframe thead th {\n",
       "        text-align: right;\n",
       "    }\n",
       "</style>\n",
       "<table border=\"1\" class=\"dataframe\">\n",
       "  <thead>\n",
       "    <tr style=\"text-align: right;\">\n",
       "      <th></th>\n",
       "      <th>Price</th>\n",
       "      <th>Age</th>\n",
       "      <th>KM</th>\n",
       "      <th>FuelType</th>\n",
       "      <th>HP</th>\n",
       "      <th>MetColor</th>\n",
       "      <th>Automatic</th>\n",
       "      <th>CC</th>\n",
       "      <th>Doors</th>\n",
       "      <th>Weight</th>\n",
       "    </tr>\n",
       "  </thead>\n",
       "  <tbody>\n",
       "    <tr>\n",
       "      <td>0</td>\n",
       "      <td>13500</td>\n",
       "      <td>23</td>\n",
       "      <td>46986</td>\n",
       "      <td>Diesel</td>\n",
       "      <td>90</td>\n",
       "      <td>1</td>\n",
       "      <td>0</td>\n",
       "      <td>2000</td>\n",
       "      <td>3</td>\n",
       "      <td>1165</td>\n",
       "    </tr>\n",
       "    <tr>\n",
       "      <td>1</td>\n",
       "      <td>13750</td>\n",
       "      <td>23</td>\n",
       "      <td>72937</td>\n",
       "      <td>Diesel</td>\n",
       "      <td>90</td>\n",
       "      <td>1</td>\n",
       "      <td>0</td>\n",
       "      <td>2000</td>\n",
       "      <td>3</td>\n",
       "      <td>1165</td>\n",
       "    </tr>\n",
       "    <tr>\n",
       "      <td>2</td>\n",
       "      <td>13950</td>\n",
       "      <td>24</td>\n",
       "      <td>41711</td>\n",
       "      <td>Diesel</td>\n",
       "      <td>90</td>\n",
       "      <td>1</td>\n",
       "      <td>0</td>\n",
       "      <td>2000</td>\n",
       "      <td>3</td>\n",
       "      <td>1165</td>\n",
       "    </tr>\n",
       "  </tbody>\n",
       "</table>\n",
       "</div>"
      ],
      "text/plain": [
       "   Price  Age     KM FuelType  HP  MetColor  Automatic    CC  Doors  Weight\n",
       "0  13500   23  46986   Diesel  90         1          0  2000      3    1165\n",
       "1  13750   23  72937   Diesel  90         1          0  2000      3    1165\n",
       "2  13950   24  41711   Diesel  90         1          0  2000      3    1165"
      ]
     },
     "execution_count": 9,
     "metadata": {},
     "output_type": "execute_result"
    }
   ],
   "source": [
    "data.head(3)"
   ]
  },
  {
   "cell_type": "markdown",
   "metadata": {},
   "source": [
    "* 浏览特征发现，FuelType列数据类型为string\n",
    "* 使用pandas自带的get_dummies方法，实现将FuelType进行OneHot编码"
   ]
  },
  {
   "cell_type": "code",
   "execution_count": 10,
   "metadata": {},
   "outputs": [
    {
     "data": {
      "text/html": [
       "<div>\n",
       "<style scoped>\n",
       "    .dataframe tbody tr th:only-of-type {\n",
       "        vertical-align: middle;\n",
       "    }\n",
       "\n",
       "    .dataframe tbody tr th {\n",
       "        vertical-align: top;\n",
       "    }\n",
       "\n",
       "    .dataframe thead th {\n",
       "        text-align: right;\n",
       "    }\n",
       "</style>\n",
       "<table border=\"1\" class=\"dataframe\">\n",
       "  <thead>\n",
       "    <tr style=\"text-align: right;\">\n",
       "      <th></th>\n",
       "      <th>CNG</th>\n",
       "      <th>Diesel</th>\n",
       "      <th>Petrol</th>\n",
       "    </tr>\n",
       "  </thead>\n",
       "  <tbody>\n",
       "    <tr>\n",
       "      <td>0</td>\n",
       "      <td>0</td>\n",
       "      <td>1</td>\n",
       "      <td>0</td>\n",
       "    </tr>\n",
       "    <tr>\n",
       "      <td>1</td>\n",
       "      <td>0</td>\n",
       "      <td>1</td>\n",
       "      <td>0</td>\n",
       "    </tr>\n",
       "    <tr>\n",
       "      <td>2</td>\n",
       "      <td>0</td>\n",
       "      <td>1</td>\n",
       "      <td>0</td>\n",
       "    </tr>\n",
       "  </tbody>\n",
       "</table>\n",
       "</div>"
      ],
      "text/plain": [
       "   CNG  Diesel  Petrol\n",
       "0    0       1       0\n",
       "1    0       1       0\n",
       "2    0       1       0"
      ]
     },
     "execution_count": 10,
     "metadata": {},
     "output_type": "execute_result"
    }
   ],
   "source": [
    "fueltype = pd.get_dummies(data['FuelType'])\n",
    "fueltype.head(3)"
   ]
  },
  {
   "cell_type": "code",
   "execution_count": 11,
   "metadata": {},
   "outputs": [
    {
     "data": {
      "text/plain": [
       "(1436, 10)"
      ]
     },
     "execution_count": 11,
     "metadata": {},
     "output_type": "execute_result"
    }
   ],
   "source": [
    "data.shape"
   ]
  },
  {
   "cell_type": "code",
   "execution_count": 12,
   "metadata": {},
   "outputs": [
    {
     "data": {
      "text/html": [
       "<div>\n",
       "<style scoped>\n",
       "    .dataframe tbody tr th:only-of-type {\n",
       "        vertical-align: middle;\n",
       "    }\n",
       "\n",
       "    .dataframe tbody tr th {\n",
       "        vertical-align: top;\n",
       "    }\n",
       "\n",
       "    .dataframe thead th {\n",
       "        text-align: right;\n",
       "    }\n",
       "</style>\n",
       "<table border=\"1\" class=\"dataframe\">\n",
       "  <thead>\n",
       "    <tr style=\"text-align: right;\">\n",
       "      <th></th>\n",
       "      <th>Price</th>\n",
       "      <th>Age</th>\n",
       "      <th>KM</th>\n",
       "      <th>HP</th>\n",
       "      <th>MetColor</th>\n",
       "      <th>Automatic</th>\n",
       "      <th>CC</th>\n",
       "      <th>Doors</th>\n",
       "      <th>Weight</th>\n",
       "      <th>CNG</th>\n",
       "      <th>Diesel</th>\n",
       "      <th>Petrol</th>\n",
       "    </tr>\n",
       "  </thead>\n",
       "  <tbody>\n",
       "    <tr>\n",
       "      <td>0</td>\n",
       "      <td>13500</td>\n",
       "      <td>23</td>\n",
       "      <td>46986</td>\n",
       "      <td>90</td>\n",
       "      <td>1</td>\n",
       "      <td>0</td>\n",
       "      <td>2000</td>\n",
       "      <td>3</td>\n",
       "      <td>1165</td>\n",
       "      <td>0</td>\n",
       "      <td>1</td>\n",
       "      <td>0</td>\n",
       "    </tr>\n",
       "    <tr>\n",
       "      <td>1</td>\n",
       "      <td>13750</td>\n",
       "      <td>23</td>\n",
       "      <td>72937</td>\n",
       "      <td>90</td>\n",
       "      <td>1</td>\n",
       "      <td>0</td>\n",
       "      <td>2000</td>\n",
       "      <td>3</td>\n",
       "      <td>1165</td>\n",
       "      <td>0</td>\n",
       "      <td>1</td>\n",
       "      <td>0</td>\n",
       "    </tr>\n",
       "    <tr>\n",
       "      <td>2</td>\n",
       "      <td>13950</td>\n",
       "      <td>24</td>\n",
       "      <td>41711</td>\n",
       "      <td>90</td>\n",
       "      <td>1</td>\n",
       "      <td>0</td>\n",
       "      <td>2000</td>\n",
       "      <td>3</td>\n",
       "      <td>1165</td>\n",
       "      <td>0</td>\n",
       "      <td>1</td>\n",
       "      <td>0</td>\n",
       "    </tr>\n",
       "  </tbody>\n",
       "</table>\n",
       "</div>"
      ],
      "text/plain": [
       "   Price  Age     KM  HP  MetColor  Automatic    CC  Doors  Weight  CNG  \\\n",
       "0  13500   23  46986  90         1          0  2000      3    1165    0   \n",
       "1  13750   23  72937  90         1          0  2000      3    1165    0   \n",
       "2  13950   24  41711  90         1          0  2000      3    1165    0   \n",
       "\n",
       "   Diesel  Petrol  \n",
       "0       1       0  \n",
       "1       1       0  \n",
       "2       1       0  "
      ]
     },
     "execution_count": 12,
     "metadata": {},
     "output_type": "execute_result"
    }
   ],
   "source": [
    "#合并fueltype特征列，删去原FuelType列\n",
    "data_new = pd.concat([data,fueltype],axis=1,sort=False).drop(['FuelType'],axis=1)\n",
    "data_new.head(3)"
   ]
  },
  {
   "cell_type": "code",
   "execution_count": 13,
   "metadata": {},
   "outputs": [
    {
     "data": {
      "text/plain": [
       "(1436, 12)"
      ]
     },
     "execution_count": 13,
     "metadata": {},
     "output_type": "execute_result"
    }
   ],
   "source": [
    "data_new.shape"
   ]
  },
  {
   "cell_type": "code",
   "execution_count": 14,
   "metadata": {},
   "outputs": [
    {
     "data": {
      "text/html": [
       "<div>\n",
       "<style scoped>\n",
       "    .dataframe tbody tr th:only-of-type {\n",
       "        vertical-align: middle;\n",
       "    }\n",
       "\n",
       "    .dataframe tbody tr th {\n",
       "        vertical-align: top;\n",
       "    }\n",
       "\n",
       "    .dataframe thead th {\n",
       "        text-align: right;\n",
       "    }\n",
       "</style>\n",
       "<table border=\"1\" class=\"dataframe\">\n",
       "  <thead>\n",
       "    <tr style=\"text-align: right;\">\n",
       "      <th></th>\n",
       "      <th>Price</th>\n",
       "      <th>Age</th>\n",
       "      <th>KM</th>\n",
       "      <th>HP</th>\n",
       "      <th>MetColor</th>\n",
       "      <th>Automatic</th>\n",
       "      <th>CC</th>\n",
       "      <th>Doors</th>\n",
       "      <th>Weight</th>\n",
       "      <th>CNG</th>\n",
       "      <th>Diesel</th>\n",
       "      <th>Petrol</th>\n",
       "    </tr>\n",
       "  </thead>\n",
       "  <tbody>\n",
       "    <tr>\n",
       "      <td>0</td>\n",
       "      <td>0.763763</td>\n",
       "      <td>-1.771966</td>\n",
       "      <td>-0.574695</td>\n",
       "      <td>-0.768042</td>\n",
       "      <td>0.694219</td>\n",
       "      <td>-0.242893</td>\n",
       "      <td>2.314976</td>\n",
       "      <td>-1.085139</td>\n",
       "      <td>1.758561</td>\n",
       "      <td>-0.109454</td>\n",
       "      <td>2.874807</td>\n",
       "      <td>-2.710874</td>\n",
       "    </tr>\n",
       "    <tr>\n",
       "      <td>1</td>\n",
       "      <td>0.832715</td>\n",
       "      <td>-1.771966</td>\n",
       "      <td>0.117454</td>\n",
       "      <td>-0.768042</td>\n",
       "      <td>0.694219</td>\n",
       "      <td>-0.242893</td>\n",
       "      <td>2.314976</td>\n",
       "      <td>-1.085139</td>\n",
       "      <td>1.758561</td>\n",
       "      <td>-0.109454</td>\n",
       "      <td>2.874807</td>\n",
       "      <td>-2.710874</td>\n",
       "    </tr>\n",
       "    <tr>\n",
       "      <td>2</td>\n",
       "      <td>0.887877</td>\n",
       "      <td>-1.718184</td>\n",
       "      <td>-0.715386</td>\n",
       "      <td>-0.768042</td>\n",
       "      <td>0.694219</td>\n",
       "      <td>-0.242893</td>\n",
       "      <td>2.314976</td>\n",
       "      <td>-1.085139</td>\n",
       "      <td>1.758561</td>\n",
       "      <td>-0.109454</td>\n",
       "      <td>2.874807</td>\n",
       "      <td>-2.710874</td>\n",
       "    </tr>\n",
       "    <tr>\n",
       "      <td>3</td>\n",
       "      <td>1.163685</td>\n",
       "      <td>-1.610620</td>\n",
       "      <td>-0.547650</td>\n",
       "      <td>-0.768042</td>\n",
       "      <td>-1.440467</td>\n",
       "      <td>-0.242893</td>\n",
       "      <td>2.314976</td>\n",
       "      <td>-1.085139</td>\n",
       "      <td>1.758561</td>\n",
       "      <td>-0.109454</td>\n",
       "      <td>2.874807</td>\n",
       "      <td>-2.710874</td>\n",
       "    </tr>\n",
       "    <tr>\n",
       "      <td>4</td>\n",
       "      <td>0.832715</td>\n",
       "      <td>-1.395491</td>\n",
       "      <td>-0.801028</td>\n",
       "      <td>-0.768042</td>\n",
       "      <td>-1.440467</td>\n",
       "      <td>-0.242893</td>\n",
       "      <td>2.314976</td>\n",
       "      <td>-1.085139</td>\n",
       "      <td>1.853577</td>\n",
       "      <td>-0.109454</td>\n",
       "      <td>2.874807</td>\n",
       "      <td>-2.710874</td>\n",
       "    </tr>\n",
       "    <tr>\n",
       "      <td>...</td>\n",
       "      <td>...</td>\n",
       "      <td>...</td>\n",
       "      <td>...</td>\n",
       "      <td>...</td>\n",
       "      <td>...</td>\n",
       "      <td>...</td>\n",
       "      <td>...</td>\n",
       "      <td>...</td>\n",
       "      <td>...</td>\n",
       "      <td>...</td>\n",
       "      <td>...</td>\n",
       "      <td>...</td>\n",
       "    </tr>\n",
       "    <tr>\n",
       "      <td>1431</td>\n",
       "      <td>-0.891089</td>\n",
       "      <td>0.702015</td>\n",
       "      <td>-1.279939</td>\n",
       "      <td>-1.035138</td>\n",
       "      <td>0.694219</td>\n",
       "      <td>-0.242893</td>\n",
       "      <td>-1.425994</td>\n",
       "      <td>-1.085139</td>\n",
       "      <td>-0.901883</td>\n",
       "      <td>-0.109454</td>\n",
       "      <td>-0.347849</td>\n",
       "      <td>0.368885</td>\n",
       "    </tr>\n",
       "    <tr>\n",
       "      <td>1432</td>\n",
       "      <td>0.031491</td>\n",
       "      <td>0.863362</td>\n",
       "      <td>-1.321120</td>\n",
       "      <td>-1.035138</td>\n",
       "      <td>-1.440467</td>\n",
       "      <td>-0.242893</td>\n",
       "      <td>-1.425994</td>\n",
       "      <td>-1.085139</td>\n",
       "      <td>-1.091915</td>\n",
       "      <td>-0.109454</td>\n",
       "      <td>-0.347849</td>\n",
       "      <td>0.368885</td>\n",
       "    </tr>\n",
       "    <tr>\n",
       "      <td>1433</td>\n",
       "      <td>-0.615281</td>\n",
       "      <td>0.809579</td>\n",
       "      <td>-1.374036</td>\n",
       "      <td>-1.035138</td>\n",
       "      <td>-1.440467</td>\n",
       "      <td>-0.242893</td>\n",
       "      <td>-1.425994</td>\n",
       "      <td>-1.085139</td>\n",
       "      <td>-1.091915</td>\n",
       "      <td>-0.109454</td>\n",
       "      <td>-0.347849</td>\n",
       "      <td>0.368885</td>\n",
       "    </tr>\n",
       "    <tr>\n",
       "      <td>1434</td>\n",
       "      <td>-0.960042</td>\n",
       "      <td>0.755797</td>\n",
       "      <td>-1.376703</td>\n",
       "      <td>-1.035138</td>\n",
       "      <td>0.694219</td>\n",
       "      <td>-0.242893</td>\n",
       "      <td>-1.425994</td>\n",
       "      <td>-1.085139</td>\n",
       "      <td>-1.091915</td>\n",
       "      <td>-0.109454</td>\n",
       "      <td>-0.347849</td>\n",
       "      <td>0.368885</td>\n",
       "    </tr>\n",
       "    <tr>\n",
       "      <td>1435</td>\n",
       "      <td>-1.042784</td>\n",
       "      <td>1.078490</td>\n",
       "      <td>-1.827849</td>\n",
       "      <td>0.567440</td>\n",
       "      <td>-1.440467</td>\n",
       "      <td>-0.242893</td>\n",
       "      <td>0.177279</td>\n",
       "      <td>1.014941</td>\n",
       "      <td>0.789399</td>\n",
       "      <td>-0.109454</td>\n",
       "      <td>-0.347849</td>\n",
       "      <td>0.368885</td>\n",
       "    </tr>\n",
       "  </tbody>\n",
       "</table>\n",
       "<p>1436 rows × 12 columns</p>\n",
       "</div>"
      ],
      "text/plain": [
       "         Price       Age        KM        HP  MetColor  Automatic        CC  \\\n",
       "0     0.763763 -1.771966 -0.574695 -0.768042  0.694219  -0.242893  2.314976   \n",
       "1     0.832715 -1.771966  0.117454 -0.768042  0.694219  -0.242893  2.314976   \n",
       "2     0.887877 -1.718184 -0.715386 -0.768042  0.694219  -0.242893  2.314976   \n",
       "3     1.163685 -1.610620 -0.547650 -0.768042 -1.440467  -0.242893  2.314976   \n",
       "4     0.832715 -1.395491 -0.801028 -0.768042 -1.440467  -0.242893  2.314976   \n",
       "...        ...       ...       ...       ...       ...        ...       ...   \n",
       "1431 -0.891089  0.702015 -1.279939 -1.035138  0.694219  -0.242893 -1.425994   \n",
       "1432  0.031491  0.863362 -1.321120 -1.035138 -1.440467  -0.242893 -1.425994   \n",
       "1433 -0.615281  0.809579 -1.374036 -1.035138 -1.440467  -0.242893 -1.425994   \n",
       "1434 -0.960042  0.755797 -1.376703 -1.035138  0.694219  -0.242893 -1.425994   \n",
       "1435 -1.042784  1.078490 -1.827849  0.567440 -1.440467  -0.242893  0.177279   \n",
       "\n",
       "         Doors    Weight       CNG    Diesel    Petrol  \n",
       "0    -1.085139  1.758561 -0.109454  2.874807 -2.710874  \n",
       "1    -1.085139  1.758561 -0.109454  2.874807 -2.710874  \n",
       "2    -1.085139  1.758561 -0.109454  2.874807 -2.710874  \n",
       "3    -1.085139  1.758561 -0.109454  2.874807 -2.710874  \n",
       "4    -1.085139  1.853577 -0.109454  2.874807 -2.710874  \n",
       "...        ...       ...       ...       ...       ...  \n",
       "1431 -1.085139 -0.901883 -0.109454 -0.347849  0.368885  \n",
       "1432 -1.085139 -1.091915 -0.109454 -0.347849  0.368885  \n",
       "1433 -1.085139 -1.091915 -0.109454 -0.347849  0.368885  \n",
       "1434 -1.085139 -1.091915 -0.109454 -0.347849  0.368885  \n",
       "1435  1.014941  0.789399 -0.109454 -0.347849  0.368885  \n",
       "\n",
       "[1436 rows x 12 columns]"
      ]
     },
     "execution_count": 14,
     "metadata": {},
     "output_type": "execute_result"
    }
   ],
   "source": [
    "from sklearn.preprocessing import StandardScaler\n",
    "\n",
    "# zscore标准化\n",
    "char_data = StandardScaler().fit_transform(data_new)\n",
    "char_data = pd.DataFrame(char_data,index=data_new.index,columns=data_new.columns)\n",
    "\n",
    "char_data"
   ]
  },
  {
   "cell_type": "markdown",
   "metadata": {},
   "source": [
    "## Step4 建模调参"
   ]
  },
  {
   "cell_type": "markdown",
   "metadata": {},
   "source": [
    "### 简单线性回归"
   ]
  },
  {
   "cell_type": "code",
   "execution_count": 15,
   "metadata": {},
   "outputs": [
    {
     "name": "stdout",
     "output_type": "stream",
     "text": [
      "--------------Simple Linear Regression---------------\n",
      "常数项为：[-0.00722057]\n",
      "各项系数为：[[-0.63271491 -0.17076344  0.26760273  0.01383079  0.02530776 -0.20810716\n",
      "  -0.00174854  0.26108854 -0.07231661  0.11490981 -0.08572567]]\n",
      "--------------训练集评价指标-----------------\n",
      "R2: 0.8633885290423879\n",
      "MSE: 0.1368118107935089\n",
      "RMSE: 0.3698808061977654\n",
      "--------------测试集评价指标-----------------\n",
      "R2: 0.883596426487455\n",
      "MSE: 0.11588371805797146\n",
      "RMSE: 0.34041697674759325\n"
     ]
    },
    {
     "data": {
      "text/plain": [
       "Text(0.5, 1.0, 'simple linear regression')"
      ]
     },
     "execution_count": 15,
     "metadata": {},
     "output_type": "execute_result"
    },
    {
     "name": "stderr",
     "output_type": "stream",
     "text": [
      "findfont: Font family ['sans-serif'] not found. Falling back to DejaVu Sans.\n",
      "findfont: Font family ['sans-serif'] not found. Falling back to DejaVu Sans.\n"
     ]
    },
    {
     "data": {
      "image/png": "[encoded data removed]",
      "text/plain": [
       "<Figure size 600x400 with 1 Axes>"
      ]
     },
     "metadata": {
      "needs_background": "light"
     },
     "output_type": "display_data"
    }
   ],
   "source": [
    "print(\"--------------Simple Linear Regression---------------\")\n",
    "from sklearn import linear_model\n",
    "from sklearn.metrics import r2_score#R square\n",
    "from sklearn import metrics\n",
    "\n",
    "#解决图片无法正常显示的问题\n",
    "plt.rcParams['font.family'] = ['sans-serif']\n",
    "plt.rcParams['font.sans-serif'] = ['SimHei']\n",
    "plt.rcParams['axes.unicode_minus'] = False\n",
    "\n",
    "#数据处理\n",
    "X = char_data.drop(['Price'],axis=1)\n",
    "y = char_data[['Price']]\n",
    "\n",
    "#划分训练集和测试集\n",
    "from sklearn.model_selection import train_test_split,cross_val_score\n",
    "X_train, X_test, y_train, y_test = train_test_split(X, y, random_state=1)\n",
    "\n",
    "#求解线性模型参数\n",
    "from sklearn.linear_model import LinearRegression\n",
    "sim_lin_reg_model = LinearRegression()\n",
    "sim_lin_reg_model.fit(X_train, y_train)\n",
    "print(f'常数项为：{sim_lin_reg_model.intercept_}')  # 常数项 \n",
    "print(f'各项系数为：{sim_lin_reg_model.coef_}')     # 变量系数 \n",
    "\n",
    "#评价指标\n",
    "sim_lin_reg_r2_score_train = r2_score(y_train,sim_lin_reg_model.predict(X_train))\n",
    "sim_lin_reg_MSE_train = metrics.mean_squared_error(y_train,sim_lin_reg_model.predict(X_train))\n",
    "sim_lin_reg_RMSE_train = np.sqrt(metrics.mean_squared_error(y_train,sim_lin_reg_model.predict(X_train)))\n",
    "sim_lin_reg_r2_score_test = r2_score(y_test,sim_lin_reg_model.predict(X_test))\n",
    "sim_lin_reg_MSE_test = metrics.mean_squared_error(y_test,sim_lin_reg_model.predict(X_test))\n",
    "sim_lin_reg_RMSE_test = np.sqrt(metrics.mean_squared_error(y_test,sim_lin_reg_model.predict(X_test)))\n",
    "\n",
    "print(\"--------------训练集评价指标-----------------\")\n",
    "print(\"R2:\",sim_lin_reg_r2_score_train)\n",
    "print(\"MSE:\",sim_lin_reg_MSE_train)\n",
    "print(\"RMSE:\",sim_lin_reg_RMSE_train)\n",
    "print(\"--------------测试集评价指标-----------------\")\n",
    "print(\"R2:\",sim_lin_reg_r2_score_test)\n",
    "print(\"MSE:\",sim_lin_reg_MSE_test)\n",
    "print(\"RMSE:\",sim_lin_reg_RMSE_test)\n",
    "\n",
    "# 画图描述真实值和预测值的变化关系\n",
    "fig,ax = plt.subplots(figsize=(6,4), dpi=100)\n",
    "ax.scatter(y_train,sim_lin_reg_model.predict(X_train),s=10,alpha=0.5)\n",
    "ax.plot([y.min(), y.max()], [y.min(), y.max()], 'r--', lw=2)\n",
    "ax.set_xlabel('character')\n",
    "ax.set_ylabel('Price')\n",
    "plt.title('simple linear regression')"
   ]
  },
  {
   "cell_type": "markdown",
   "metadata": {},
   "source": [
    "### 岭回归"
   ]
  },
  {
   "cell_type": "code",
   "execution_count": 16,
   "metadata": {},
   "outputs": [
    {
     "name": "stdout",
     "output_type": "stream",
     "text": [
      "--------------Ridge Regression---------------\n",
      "常数项为：[-0.00708431]\n",
      "各项系数为：[[-0.62635288 -0.17496999  0.24386406  0.01375494  0.02363918 -0.17724722\n",
      "  -0.00306034  0.26484206 -0.06614082  0.0948726  -0.06863412]]\n",
      "--------------训练集评价指标-----------------\n",
      "R2: 0.8632306120480592\n",
      "MSE: 0.1369699593720853\n",
      "RMSE: 0.3700945276170472\n",
      "--------------测试集评价指标-----------------\n",
      "R2: 0.8835238440743978\n",
      "MSE: 0.11595597631978316\n",
      "RMSE: 0.34052309219755295\n"
     ]
    },
    {
     "data": {
      "text/plain": [
       "Text(0.5, 1.0, 'ridge regression')"
      ]
     },
     "execution_count": 16,
     "metadata": {},
     "output_type": "execute_result"
    },
    {
     "data": {
      "image/png": "[encoded data removed]",
      "text/plain": [
       "<Figure size 600x400 with 1 Axes>"
      ]
     },
     "metadata": {
      "needs_background": "light"
     },
     "output_type": "display_data"
    }
   ],
   "source": [
    "print(\"--------------Ridge Regression---------------\")\n",
    "from sklearn.model_selection import train_test_split,cross_val_score\n",
    "from sklearn.metrics import r2_score#R square\n",
    "\n",
    "X = char_data.drop(['Price'],axis=1)\n",
    "y = char_data[['Price']]\n",
    "\n",
    "# 划分训练集和测试集\n",
    "from sklearn.model_selection import train_test_split,cross_val_score\n",
    "X_train, X_test, y_train, y_test = train_test_split(X, y, random_state=1)\n",
    "\n",
    "#导入岭回归算法\n",
    "from sklearn.linear_model import Ridge\n",
    "rid_reg_model=Ridge(alpha=10)#确定约束参数\n",
    "rid_reg_model.fit(X_train,y_train)\n",
    "print(f'常数项为：{rid_reg_model.intercept_}')  # 常数项 \n",
    "print(f'各项系数为：{rid_reg_model.coef_}')     # 变量系数 \n",
    "\n",
    "#评价指标\n",
    "rid_reg_r2_score_train = r2_score(y_train,rid_reg_model.predict(X_train))\n",
    "rid_reg_MSE_train = metrics.mean_squared_error(y_train,rid_reg_model.predict(X_train))\n",
    "rid_reg_RMSE_train = np.sqrt(metrics.mean_squared_error(y_train,rid_reg_model.predict(X_train)))\n",
    "rid_reg_r2_score_test = r2_score(y_test,rid_reg_model.predict(X_test))\n",
    "rid_reg_MSE_test = metrics.mean_squared_error(y_test,rid_reg_model.predict(X_test))\n",
    "rid_reg_RMSE_test = np.sqrt(metrics.mean_squared_error(y_test,rid_reg_model.predict(X_test)))\n",
    "\n",
    "print(\"--------------训练集评价指标-----------------\")\n",
    "print(\"R2:\",rid_reg_r2_score_train)\n",
    "print(\"MSE:\",rid_reg_MSE_train)\n",
    "print(\"RMSE:\",rid_reg_RMSE_train)\n",
    "print(\"--------------测试集评价指标-----------------\")\n",
    "print(\"R2:\",rid_reg_r2_score_test)\n",
    "print(\"MSE:\",rid_reg_MSE_test)\n",
    "print(\"RMSE:\",rid_reg_RMSE_test)\n",
    "\n",
    "# 画图描述真实值和预测值的变化关系\n",
    "fig,ax = plt.subplots(figsize=(6,4), dpi=100)\n",
    "ax.scatter(y_train,rid_reg_model.predict(X_train),s=10,alpha=0.5)\n",
    "ax.plot([y.min(), y.max()], [y.min(), y.max()], 'r--', lw=2)\n",
    "ax.set_xlabel('character')\n",
    "ax.set_ylabel('Price')\n",
    "plt.title('ridge regression')"
   ]
  },
  {
   "cell_type": "markdown",
   "metadata": {},
   "source": [
    "### Lasso回归"
   ]
  },
  {
   "cell_type": "code",
   "execution_count": 17,
   "metadata": {},
   "outputs": [
    {
     "name": "stdout",
     "output_type": "stream",
     "text": [
      "--------------Lasso Regression---------------\n",
      "使用的特征值数量： 10\n",
      "常数项为：[-0.00708431]\n",
      "各项系数为：[[-0.62635288 -0.17496999  0.24386406  0.01375494  0.02363918 -0.17724722\n",
      "  -0.00306034  0.26484206 -0.06614082  0.0948726  -0.06863412]]\n",
      "--------------训练集评价指标-----------------\n",
      "R2: 0.863319472391272\n",
      "MSE: 0.13688096871575559\n",
      "RMSE: 0.3699742811544548\n",
      "--------------测试集评价指标-----------------\n",
      "R2: 0.8836418759080145\n",
      "MSE: 0.11583847161339002\n",
      "RMSE: 0.3403505128736991\n"
     ]
    },
    {
     "data": {
      "text/plain": [
       "Text(0.5, 1.0, 'Lasso regression')"
      ]
     },
     "execution_count": 17,
     "metadata": {},
     "output_type": "execute_result"
    },
    {
     "data": {
      "image/png": "[encoded data removed]",
      "text/plain": [
       "<Figure size 600x400 with 1 Axes>"
      ]
     },
     "metadata": {
      "needs_background": "light"
     },
     "output_type": "display_data"
    }
   ],
   "source": [
    "print(\"--------------Lasso Regression---------------\")\n",
    "from sklearn.model_selection import train_test_split,cross_val_score\n",
    "from sklearn.metrics import r2_score#R square\n",
    "\n",
    "X = char_data.drop(['Price'],axis=1)\n",
    "y = char_data[['Price']]\n",
    "\n",
    "# 划分训练集和测试集\n",
    "from sklearn.model_selection import train_test_split,cross_val_score\n",
    "X_train, X_test, y_train, y_test = train_test_split(X, y, random_state=1)\n",
    "\n",
    "#导入岭回归算法\n",
    "from sklearn.linear_model import Lasso\n",
    "# alpha的值是0.001\n",
    "las_reg_model = Lasso(alpha=0.001)\n",
    "las_reg_model.fit(X_train,y_train)\n",
    "print(\"使用的特征值数量：\", np.sum(las_reg_model.coef_ != 0))\n",
    "print(f'常数项为：{rid_reg_model.intercept_}')  # 常数项 \n",
    "print(f'各项系数为：{rid_reg_model.coef_}')     # 变量系数 \n",
    "\n",
    "#评价指标\n",
    "las_reg_r2_score_train = r2_score(y_train,las_reg_model.predict(X_train))\n",
    "las_reg_MSE_train = metrics.mean_squared_error(y_train,las_reg_model.predict(X_train))\n",
    "las_reg_RMSE_train = np.sqrt(metrics.mean_squared_error(y_train,las_reg_model.predict(X_train)))\n",
    "las_reg_r2_score_test = r2_score(y_test,las_reg_model.predict(X_test))\n",
    "las_reg_MSE_test = metrics.mean_squared_error(y_test,las_reg_model.predict(X_test))\n",
    "las_reg_RMSE_test = np.sqrt(metrics.mean_squared_error(y_test,las_reg_model.predict(X_test)))\n",
    "\n",
    "print(\"--------------训练集评价指标-----------------\")\n",
    "print(\"R2:\",las_reg_r2_score_train)\n",
    "print(\"MSE:\",las_reg_MSE_train)\n",
    "print(\"RMSE:\",las_reg_RMSE_train)\n",
    "print(\"--------------测试集评价指标-----------------\")\n",
    "print(\"R2:\",las_reg_r2_score_test)\n",
    "print(\"MSE:\",las_reg_MSE_test)\n",
    "print(\"RMSE:\",las_reg_RMSE_test)\n",
    "\n",
    "# 画图描述真实值和预测值的变化关系\n",
    "fig,ax = plt.subplots(figsize=(6,4), dpi=100)\n",
    "ax.scatter(y_train,las_reg_model.predict(X_train),s=10,alpha=0.5)\n",
    "ax.plot([y.min(), y.max()], [y.min(), y.max()], 'r--', lw=2)\n",
    "ax.set_xlabel('character')\n",
    "ax.set_ylabel('Price')\n",
    "plt.title('Lasso regression')"
   ]
  },
  {
   "cell_type": "markdown",
   "metadata": {},
   "source": [
    "## Step5 结论"
   ]
  },
  {
   "cell_type": "code",
   "execution_count": 18,
   "metadata": {},
   "outputs": [
    {
     "data": {
      "text/html": [
       "<div>\n",
       "<style scoped>\n",
       "    .dataframe tbody tr th:only-of-type {\n",
       "        vertical-align: middle;\n",
       "    }\n",
       "\n",
       "    .dataframe tbody tr th {\n",
       "        vertical-align: top;\n",
       "    }\n",
       "\n",
       "    .dataframe thead th {\n",
       "        text-align: right;\n",
       "    }\n",
       "</style>\n",
       "<table border=\"1\" class=\"dataframe\">\n",
       "  <thead>\n",
       "    <tr style=\"text-align: right;\">\n",
       "      <th></th>\n",
       "      <th>Model</th>\n",
       "      <th>R2_score_train</th>\n",
       "      <th>R2_score_test</th>\n",
       "      <th>MSE_score_train</th>\n",
       "      <th>MSE_score_test</th>\n",
       "      <th>RMSE_score_train</th>\n",
       "      <th>RMSE_score_test</th>\n",
       "    </tr>\n",
       "  </thead>\n",
       "  <tbody>\n",
       "    <tr>\n",
       "      <td>0</td>\n",
       "      <td>Simple Linear Regression</td>\n",
       "      <td>0.863389</td>\n",
       "      <td>0.883596</td>\n",
       "      <td>0.136812</td>\n",
       "      <td>0.340417</td>\n",
       "      <td>0.369881</td>\n",
       "      <td>0.340417</td>\n",
       "    </tr>\n",
       "    <tr>\n",
       "      <td>1</td>\n",
       "      <td>Ridge Regression</td>\n",
       "      <td>0.863231</td>\n",
       "      <td>0.883524</td>\n",
       "      <td>0.136970</td>\n",
       "      <td>0.340523</td>\n",
       "      <td>0.370095</td>\n",
       "      <td>0.340523</td>\n",
       "    </tr>\n",
       "    <tr>\n",
       "      <td>2</td>\n",
       "      <td>Lasso Regression</td>\n",
       "      <td>0.863319</td>\n",
       "      <td>0.883642</td>\n",
       "      <td>0.136881</td>\n",
       "      <td>0.340351</td>\n",
       "      <td>0.369974</td>\n",
       "      <td>0.340351</td>\n",
       "    </tr>\n",
       "  </tbody>\n",
       "</table>\n",
       "</div>"
      ],
      "text/plain": [
       "                      Model  R2_score_train  R2_score_test  MSE_score_train  \\\n",
       "0  Simple Linear Regression        0.863389       0.883596         0.136812   \n",
       "1          Ridge Regression        0.863231       0.883524         0.136970   \n",
       "2          Lasso Regression        0.863319       0.883642         0.136881   \n",
       "\n",
       "   MSE_score_test  RMSE_score_train  RMSE_score_test  \n",
       "0        0.340417          0.369881         0.340417  \n",
       "1        0.340523          0.370095         0.340523  \n",
       "2        0.340351          0.369974         0.340351  "
      ]
     },
     "execution_count": 18,
     "metadata": {},
     "output_type": "execute_result"
    }
   ],
   "source": [
    "#建立一个dataframe对比各模型评分\n",
    "evaluation = pd.DataFrame({'Model': [],\n",
    "                           'R2_score_train': [],\n",
    "                           'R2_score_test': [],\n",
    "                           'MSE_score_train': [],\n",
    "                           'MSE_score_test': [],\n",
    "                           'RMSE_score_train':[],\n",
    "                           'RMSE_score_test':[],\n",
    "                           })\n",
    "r = evaluation.shape[0]\n",
    "evaluation.loc[r] = ['Simple Linear Regression', sim_lin_reg_r2_score_train, sim_lin_reg_r2_score_test, \n",
    "                     sim_lin_reg_MSE_train, sim_lin_reg_RMSE_test, sim_lin_reg_RMSE_train, sim_lin_reg_RMSE_test]\n",
    "\n",
    "r = evaluation.shape[0]\n",
    "evaluation.loc[r] = ['Ridge Regression', rid_reg_r2_score_train, rid_reg_r2_score_test, \n",
    "                     rid_reg_MSE_train, rid_reg_RMSE_test, rid_reg_RMSE_train, rid_reg_RMSE_test]\n",
    "\n",
    "r = evaluation.shape[0]\n",
    "evaluation.loc[r] = ['Lasso Regression', las_reg_r2_score_train, las_reg_r2_score_test, \n",
    "                     las_reg_MSE_train, las_reg_RMSE_test, las_reg_RMSE_train, las_reg_RMSE_test]\n",
    "evaluation"
   ]
  },
  {
   "cell_type": "code",
   "execution_count": 19,
   "metadata": {
    "scrolled": true
   },
   "outputs": [
    {
     "data": {
      "text/plain": [
       "Text(0.5, 1.0, 'RMSE_score')"
      ]
     },
     "execution_count": 19,
     "metadata": {},
     "output_type": "execute_result"
    },
    {
     "data": {
      "image/png": "[encoded data removed]",
      "text/plain": [
       "<Figure size 1152x288 with 3 Axes>"
      ]
     },
     "metadata": {
      "needs_background": "light"
     },
     "output_type": "display_data"
    }
   ],
   "source": [
    "plt.figure(1,figsize=(16,4))\n",
    "ax1 = plt.subplot(131)\n",
    "ax1.plot(evaluation['Model'],evaluation['R2_score_train'])\n",
    "plt.title('R2_score')\n",
    "ax2 = plt.subplot(132)\n",
    "ax2.plot(evaluation['Model'],evaluation['MSE_score_train'])\n",
    "plt.title('MSE_score')\n",
    "ax3 = plt.subplot(133)\n",
    "ax3.plot(evaluation['Model'],evaluation['RMSE_score_train'])\n",
    "plt.title('RMSE_score')"
   ]
  },
  {
   "cell_type": "code",
   "execution_count": 20,
   "metadata": {},
   "outputs": [
    {
     "data": {
      "text/plain": [
       "Text(0.5, 1.0, 'RMSE_score')"
      ]
     },
     "execution_count": 20,
     "metadata": {},
     "output_type": "execute_result"
    },
    {
     "data": {
      "image/png": "[encoded data removed]",
      "text/plain": [
       "<Figure size 1152x288 with 3 Axes>"
      ]
     },
     "metadata": {
      "needs_background": "light"
     },
     "output_type": "display_data"
    }
   ],
   "source": [
    "plt.figure(1,figsize=(16,4))\n",
    "ax1 = plt.subplot(131)\n",
    "ax1.plot(evaluation['Model'],evaluation['R2_score_test'])\n",
    "plt.title('R2_score')\n",
    "ax2 = plt.subplot(132)\n",
    "ax2.plot(evaluation['Model'],evaluation['MSE_score_test'])\n",
    "plt.title('MSE_score')\n",
    "ax3 = plt.subplot(133)\n",
    "ax3.plot(evaluation['Model'],evaluation['RMSE_score_test'])\n",
    "plt.title('RMSE_score')"
   ]
  },
  {
   "cell_type": "markdown",
   "metadata": {},
   "source": [
    "### 通过以上图表可得如下结论：\n",
    "* 三个模型中，R2评价指标测试集得分均高于训练集得分，MSE评价指标训练集优于测试集，RMSE评价指标测试集优于训练集\n",
    "* R2评价指标：简单线性回归训练集拟合程度最高，拉索回归预测结果最准确。（简单线性回归可能有一定程度的过拟合，拉索回归通过L1正则化纠正。\n",
    "* MSE评价指标：简单线性回归训练集拟合程度最高，拉索回归预测结果最准确。（同上）\n",
    "* RMSE评价指标：简单线性回归训练集拟合程度最高，拉索回归预测结果最准确。（同上）\n",
    "#### 总结：简单线性回归可能有一定程度的过拟合，拉索回归可通过L1正则化有效纠正。"
   ]
  },
  {
   "cell_type": "markdown",
   "metadata": {},
   "source": [
    "### 附：利用网格搜索（GridSearchCV）获取最优参数方法"
   ]
  },
  {
   "cell_type": "code",
   "execution_count": 21,
   "metadata": {},
   "outputs": [],
   "source": [
    "#### Ridge Regression"
   ]
  },
  {
   "cell_type": "code",
   "execution_count": 22,
   "metadata": {},
   "outputs": [
    {
     "name": "stdout",
     "output_type": "stream",
     "text": [
      "Fitting 5 folds for each of 6 candidates, totalling 30 fits\n",
      "[CV] alpha=1 .........................................................\n",
      "[CV] ............................. alpha=1, score=0.831, total=   0.0s\n",
      "[CV] alpha=1 .........................................................\n",
      "[CV] ............................. alpha=1, score=0.890, total=   0.0s\n",
      "[CV] alpha=1 .........................................................\n",
      "[CV] ............................. alpha=1, score=0.834, total=   0.0s\n",
      "[CV] alpha=1 .........................................................\n",
      "[CV] ............................. alpha=1, score=0.841, total=   0.0s\n",
      "[CV] alpha=1 .........................................................\n",
      "[CV] ............................. alpha=1, score=0.880, total=   0.0s\n",
      "[CV] alpha=5 .........................................................\n",
      "[CV] ............................. alpha=5, score=0.833, total=   0.0s\n",
      "[CV] alpha=5 .........................................................\n",
      "[CV] ............................. alpha=5, score=0.890, total=   0.0s\n",
      "[CV] alpha=5 .........................................................\n",
      "[CV] ............................. alpha=5, score=0.833, total=   0.0s\n",
      "[CV] alpha=5 .........................................................\n",
      "[CV] ............................. alpha=5, score=0.841, total=   0.0s\n",
      "[CV] alpha=5 .........................................................\n",
      "[CV] ............................. alpha=5, score=0.880, total=   0.0s\n",
      "[CV] alpha=10 ........................................................\n",
      "[CV] ............................ alpha=10, score=0.835, total=   0.0s\n",
      "[CV] alpha=10 ........................................................\n",
      "[CV] ............................ alpha=10, score=0.890, total=   0.0s\n",
      "[CV] alpha=10 ........................................................\n",
      "[CV] ............................ alpha=10, score=0.833, total=   0.0s\n",
      "[CV] alpha=10 ........................................................\n",
      "[CV] ............................ alpha=10, score=0.840, total=   0.0s\n",
      "[CV] alpha=10 ........................................................\n",
      "[CV] ............................ alpha=10, score=0.879, total=   0.0s\n",
      "[CV] alpha=20 ........................................................\n",
      "[CV] ............................ alpha=20, score=0.837, total=   0.0s\n",
      "[CV] alpha=20 ........................................................\n",
      "[CV] ............................ alpha=20, score=0.890, total=   0.0s\n",
      "[CV] alpha=20 ........................................................\n",
      "[CV] ............................ alpha=20, score=0.832, total=   0.0s\n",
      "[CV] alpha=20 ........................................................\n",
      "[CV] ............................ alpha=20, score=0.840, total=   0.0s\n",
      "[CV] alpha=20 ........................................................\n",
      "[CV] ............................ alpha=20, score=0.878, total=   0.0s\n",
      "[CV] alpha=50 ........................................................\n",
      "[CV] ............................ alpha=50, score=0.839, total=   0.0s\n",
      "[CV] alpha=50 ........................................................\n",
      "[CV] ............................ alpha=50, score=0.890, total=   0.0s\n",
      "[CV] alpha=50 ........................................................\n",
      "[CV] ............................ alpha=50, score=0.830, total=   0.0s\n",
      "[CV] alpha=50 ........................................................\n",
      "[CV] ............................ alpha=50, score=0.838, total=   0.0s\n",
      "[CV] alpha=50 ........................................................\n",
      "[CV] ............................ alpha=50, score=0.876, total=   0.0s\n",
      "[CV] alpha=100 .......................................................\n",
      "[CV] ........................... alpha=100, score=0.837, total=   0.0s\n",
      "[CV] alpha=100 .......................................................\n",
      "[CV] ........................... alpha=100, score=0.886, total=   0.0s\n",
      "[CV] alpha=100 .......................................................\n",
      "[CV] ........................... alpha=100, score=0.825, total=   0.0s\n",
      "[CV] alpha=100 .......................................................\n",
      "[CV] ........................... alpha=100, score=0.833, total=   0.0s\n",
      "[CV] alpha=100 .......................................................\n",
      "[CV] ........................... alpha=100, score=0.871, total=   0.0s\n",
      "{'alpha': 20}\n"
     ]
    },
    {
     "name": "stderr",
     "output_type": "stream",
     "text": [
      "[Parallel(n_jobs=1)]: Using backend SequentialBackend with 1 concurrent workers.\n",
      "[Parallel(n_jobs=1)]: Done   1 out of   1 | elapsed:    0.0s remaining:    0.0s\n",
      "[Parallel(n_jobs=1)]: Done   2 out of   2 | elapsed:    0.0s remaining:    0.0s\n",
      "[Parallel(n_jobs=1)]: Done   3 out of   3 | elapsed:    0.0s remaining:    0.0s\n",
      "[Parallel(n_jobs=1)]: Done   4 out of   4 | elapsed:    0.0s remaining:    0.0s\n",
      "[Parallel(n_jobs=1)]: Done   5 out of   5 | elapsed:    0.0s remaining:    0.0s\n",
      "[Parallel(n_jobs=1)]: Done   6 out of   6 | elapsed:    0.1s remaining:    0.0s\n",
      "[Parallel(n_jobs=1)]: Done   7 out of   7 | elapsed:    0.1s remaining:    0.0s\n",
      "[Parallel(n_jobs=1)]: Done   8 out of   8 | elapsed:    0.1s remaining:    0.0s\n",
      "[Parallel(n_jobs=1)]: Done   9 out of   9 | elapsed:    0.1s remaining:    0.0s\n",
      "[Parallel(n_jobs=1)]: Done  30 out of  30 | elapsed:    0.2s finished\n"
     ]
    }
   ],
   "source": [
    "import pandas as pd\n",
    "import numpy as np\n",
    "from sklearn.model_selection import GridSearchCV,RandomizedSearchCV\n",
    "from sklearn.model_selection import train_test_split\n",
    "from sklearn.metrics import accuracy_score\n",
    "\n",
    "from sklearn.model_selection import train_test_split,cross_val_score\n",
    "X = char_data.drop(['Price'],axis=1)\n",
    "y = char_data[['Price']]\n",
    "\n",
    "# 划分训练集和测试集\n",
    "from sklearn.model_selection import train_test_split,cross_val_score\n",
    "X_train, X_test, y_train, y_test = train_test_split(X, y, random_state=1)\n",
    "\n",
    "from sklearn.metrics import accuracy_score\n",
    "from sklearn.model_selection import GridSearchCV,RandomizedSearchCV\n",
    "from sklearn.linear_model import Ridge\n",
    "rid_reg_model=Ridge()\n",
    "parameters = {'alpha':[1, 5, 10, 20, 50, 100]}#设置几个参数\n",
    "gd_sr=GridSearchCV(rid_reg_model, parameters, cv=5, verbose=10)\n",
    "\n",
    "gd_sr.fit(X_train,y_train)\n",
    "best_parameters = gd_sr.best_params_\n",
    "print(best_parameters)"
   ]
  },
  {
   "cell_type": "code",
   "execution_count": 23,
   "metadata": {},
   "outputs": [],
   "source": [
    "#### Lasso Regression"
   ]
  },
  {
   "cell_type": "code",
   "execution_count": 24,
   "metadata": {},
   "outputs": [
    {
     "name": "stdout",
     "output_type": "stream",
     "text": [
      "Fitting 5 folds for each of 7 candidates, totalling 35 fits\n",
      "[CV] alpha=10 ........................................................\n",
      "[CV] ........................... alpha=10, score=-0.003, total=   0.0s\n",
      "[CV] alpha=10 ........................................................\n",
      "[CV] ........................... alpha=10, score=-0.001, total=   0.0s\n",
      "[CV] alpha=10 ........................................................\n",
      "[CV] ........................... alpha=10, score=-0.033, total=   0.0s\n",
      "[CV] alpha=10 ........................................................\n",
      "[CV] ........................... alpha=10, score=-0.005, total=   0.0s\n",
      "[CV] alpha=10 ........................................................\n",
      "[CV] ........................... alpha=10, score=-0.005, total=   0.0s\n",
      "[CV] alpha=1 .........................................................\n",
      "[CV] ............................ alpha=1, score=-0.003, total=   0.0s\n",
      "[CV] alpha=1 .........................................................\n",
      "[CV] ............................ alpha=1, score=-0.001, total=   0.0s\n",
      "[CV] alpha=1 .........................................................\n",
      "[CV] ............................ alpha=1, score=-0.033, total=   0.0s\n",
      "[CV] alpha=1 .........................................................\n",
      "[CV] ............................ alpha=1, score=-0.005, total=   0.0s\n",
      "[CV] alpha=1 .........................................................\n",
      "[CV] ............................ alpha=1, score=-0.005, total=   0.0s\n",
      "[CV] alpha=0.5 .......................................................\n",
      "[CV] ........................... alpha=0.5, score=0.514, total=   0.0s\n",
      "[CV] alpha=0.5 .......................................................\n",
      "[CV] ........................... alpha=0.5, score=0.508, total=   0.0s\n",
      "[CV] alpha=0.5 .......................................................\n",
      "[CV] ........................... alpha=0.5, score=0.433, total=   0.0s\n",
      "[CV] alpha=0.5 .......................................................\n",
      "[CV] ........................... alpha=0.5, score=0.560, total=   0.0s\n",
      "[CV] alpha=0.5 .......................................................\n",
      "[CV] ........................... alpha=0.5, score=0.510, total=   0.0s\n",
      "[CV] alpha=0.1 .......................................................\n",
      "[CV] ........................... alpha=0.1, score=0.804, total=   0.0s\n",
      "[CV] alpha=0.1 .......................................................\n",
      "[CV] ........................... alpha=0.1, score=0.846, total=   0.0s\n",
      "[CV] alpha=0.1 .......................................................\n",
      "[CV] ........................... alpha=0.1, score=0.808, total=   0.0s\n",
      "[CV] alpha=0.1 .......................................................\n",
      "[CV] ........................... alpha=0.1, score=0.836, total=   0.0s\n",
      "[CV] alpha=0.1 .......................................................\n",
      "[CV] ........................... alpha=0.1, score=0.849, total=   0.0s\n",
      "[CV] alpha=0.05 ......................................................\n",
      "[CV] .......................... alpha=0.05, score=0.824, total=   0.0s\n",
      "[CV] alpha=0.05 ......................................................\n",
      "[CV] .......................... alpha=0.05, score=0.870, total=   0.0s\n",
      "[CV] alpha=0.05 ......................................................\n",
      "[CV] .......................... alpha=0.05, score=0.828, total=   0.0s\n",
      "[CV] alpha=0.05 ......................................................\n",
      "[CV] .......................... alpha=0.05, score=0.841, total=   0.0s\n",
      "[CV] alpha=0.05 ......................................................\n",
      "[CV] .......................... alpha=0.05, score=0.869, total=   0.0s\n",
      "[CV] alpha=0.01 ......................................................\n",
      "[CV] .......................... alpha=0.01, score=0.839, total=   0.0s\n",
      "[CV] alpha=0.01 ......................................................\n",
      "[CV] .......................... alpha=0.01, score=0.884, total=   0.0s\n",
      "[CV] alpha=0.01 ......................................................\n",
      "[CV] .......................... alpha=0.01, score=0.831, total=   0.0s\n",
      "[CV] alpha=0.01 ......................................................\n",
      "[CV] .......................... alpha=0.01, score=0.840, total=   0.0s\n",
      "[CV] alpha=0.01 ......................................................\n",
      "[CV] .......................... alpha=0.01, score=0.877, total=   0.0s\n",
      "[CV] alpha=0.001 .....................................................\n",
      "[CV] ......................... alpha=0.001, score=0.833, total=   0.0s\n",
      "[CV] alpha=0.001 .....................................................\n",
      "[CV] ......................... alpha=0.001, score=0.889, total=   0.0s\n",
      "[CV] alpha=0.001 .....................................................\n",
      "[CV] ......................... alpha=0.001, score=0.833, total=   0.0s\n",
      "[CV] alpha=0.001 .....................................................\n",
      "[CV] ......................... alpha=0.001, score=0.841, total=   0.0s\n",
      "[CV] alpha=0.001 .....................................................\n",
      "[CV] ......................... alpha=0.001, score=0.880, total=   0.0s\n",
      "{'alpha': 0.001}\n"
     ]
    },
    {
     "name": "stderr",
     "output_type": "stream",
     "text": [
      "[Parallel(n_jobs=1)]: Using backend SequentialBackend with 1 concurrent workers.\n",
      "[Parallel(n_jobs=1)]: Done   1 out of   1 | elapsed:    0.0s remaining:    0.0s\n",
      "[Parallel(n_jobs=1)]: Done   2 out of   2 | elapsed:    0.0s remaining:    0.0s\n",
      "[Parallel(n_jobs=1)]: Done   3 out of   3 | elapsed:    0.0s remaining:    0.0s\n",
      "[Parallel(n_jobs=1)]: Done   4 out of   4 | elapsed:    0.0s remaining:    0.0s\n",
      "[Parallel(n_jobs=1)]: Done   5 out of   5 | elapsed:    0.0s remaining:    0.0s\n",
      "[Parallel(n_jobs=1)]: Done   6 out of   6 | elapsed:    0.0s remaining:    0.0s\n",
      "[Parallel(n_jobs=1)]: Done   7 out of   7 | elapsed:    0.1s remaining:    0.0s\n",
      "[Parallel(n_jobs=1)]: Done   8 out of   8 | elapsed:    0.1s remaining:    0.0s\n",
      "[Parallel(n_jobs=1)]: Done   9 out of   9 | elapsed:    0.1s remaining:    0.0s\n",
      "[Parallel(n_jobs=1)]: Done  35 out of  35 | elapsed:    0.2s finished\n"
     ]
    }
   ],
   "source": [
    "import pandas as pd\n",
    "import numpy as np\n",
    "from sklearn.model_selection import GridSearchCV,RandomizedSearchCV\n",
    "from sklearn.model_selection import train_test_split\n",
    "from sklearn.metrics import accuracy_score\n",
    "\n",
    "from sklearn.model_selection import train_test_split,cross_val_score\n",
    "X = char_data.drop(['Price'],axis=1)\n",
    "y = char_data[['Price']]\n",
    "\n",
    "# 划分训练集和测试集\n",
    "from sklearn.model_selection import train_test_split,cross_val_score\n",
    "X_train, X_test, y_train, y_test = train_test_split(X, y, random_state=1)\n",
    "\n",
    "from sklearn.linear_model import Lasso\n",
    "rid_reg_model=Lasso()\n",
    "parameters = {'alpha':[10, 1, 0.5, 0.1, 0.05, 0.01, 0.001]}#设置几个参数\n",
    "gd_sr=GridSearchCV(rid_reg_model, parameters, cv=5, verbose=10)\n",
    "\n",
    "gd_sr.fit(X_train,y_train)\n",
    "best_parameters = gd_sr.best_params_\n",
    "print(best_parameters)"
   ]
  },
  {
   "cell_type": "code",
   "execution_count": null,
   "metadata": {},
   "outputs": [],
   "source": []
  }
 ],
 "metadata": {
  "kernelspec": {
   "display_name": "Python 3",
   "language": "python",
   "name": "python3"
  },
  "language_info": {
   "codemirror_mode": {
    "name": "ipython",
    "version": 3
   },
   "file_extension": ".py",
   "mimetype": "text/x-python",
   "name": "python",
   "nbconvert_exporter": "python",
   "pygments_lexer": "ipython3",
   "version": "3.8.8"
  }
 },
 "nbformat": 4,
 "nbformat_minor": 2
}
